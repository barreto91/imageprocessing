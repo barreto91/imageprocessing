{
 "cells": [
  {
   "cell_type": "code",
   "execution_count": 1,
   "metadata": {},
   "outputs": [
    {
     "name": "stdout",
     "output_type": "stream",
     "text": [
      "\n",
      "Successfully imported all required libraries.\n",
      "\n",
      "Set the `exiftoolpath` environment variable as described above\n",
      "Exiftool isn't working. Double check that you've followed the instructions above.\n",
      "The execption text below may help to find the source of the problem:\n",
      "\n",
      "[WinError 2] Das System kann die angegebene Datei nicht finden\n"
     ]
    }
   ],
   "source": [
    "import cv2 #openCV\n",
    "import exiftool\n",
    "import os, glob\n",
    "import numpy as np\n",
    "import pyzbar.pyzbar as pyzbar\n",
    "import matplotlib.pyplot as plt\n",
    "import mapboxgl\n",
    "\n",
    "print()\n",
    "print(\"Successfully imported all required libraries.\")\n",
    "print()\n",
    "\n",
    "if os.name == 'nt':\n",
    "    if os.environ.get('exiftoolpath') is None:\n",
    "        print(\"Set the `exiftoolpath` environment variable as described above\")\n",
    "    else:\n",
    "        if not os.path.isfile(os.environ.get('exiftoolpath')):\n",
    "            print(\"The provided exiftoolpath isn't a file, check the settings\")\n",
    "\n",
    "try:\n",
    "    with exiftool.ExifTool(os.environ.get('exiftoolpath')) as exift:\n",
    "        print('Successfully executed exiftool.')\n",
    "except Exception as e:\n",
    "    print(\"Exiftool isn't working. Double check that you've followed the instructions above.\")\n",
    "    print(\"The execption text below may help to find the source of the problem:\")\n",
    "    print()\n",
    "    print(e)"
   ]
  }
 ],
 "metadata": {
  "kernelspec": {
   "display_name": "Python [conda env:micasense] *",
   "language": "python",
   "name": "conda-env-micasense-py"
  },
  "language_info": {
   "codemirror_mode": {
    "name": "ipython",
    "version": 3
   },
   "file_extension": ".py",
   "mimetype": "text/x-python",
   "name": "python",
   "nbconvert_exporter": "python",
   "pygments_lexer": "ipython3",
   "version": "3.7.6"
  }
 },
 "nbformat": 4,
 "nbformat_minor": 4
}
